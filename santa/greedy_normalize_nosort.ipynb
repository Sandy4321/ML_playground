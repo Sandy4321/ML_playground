{
 "cells": [
  {
   "cell_type": "code",
   "execution_count": 1,
   "metadata": {
    "collapsed": true
   },
   "outputs": [],
   "source": [
    "import pandas as pd\n",
    "import numpy as np\n",
    "\n",
    "from collections import Counter\n",
    "import operator\n",
    "from fractions import gcd"
   ]
  },
  {
   "cell_type": "markdown",
   "metadata": {},
   "source": [
    "### read data"
   ]
  },
  {
   "cell_type": "code",
   "execution_count": 2,
   "metadata": {
    "collapsed": false
   },
   "outputs": [
    {
     "name": "stdout",
     "output_type": "stream",
     "text": [
      "CPU times: user 8.79 s, sys: 743 ms, total: 9.54 s\n",
      "Wall time: 9.53 s\n"
     ]
    }
   ],
   "source": [
    "%%time\n",
    "wish = pd.read_csv('/group/amfs_saving_model/jli/santa/child_wishlist_v2.csv', header=None).as_matrix()[:, 1:]\n",
    "gift = pd.read_csv('/group/amfs_saving_model/jli/santa/gift_goodkids_v2.csv', header=None).as_matrix()[:, 1:]"
   ]
  },
  {
   "cell_type": "code",
   "execution_count": 3,
   "metadata": {
    "collapsed": false
   },
   "outputs": [
    {
     "name": "stdout",
     "output_type": "stream",
     "text": [
      "(1000000, 100)\n",
      "(1000, 1000)\n"
     ]
    }
   ],
   "source": [
    "print wish.shape\n",
    "print gift.shape"
   ]
  },
  {
   "cell_type": "code",
   "execution_count": 19,
   "metadata": {
    "collapsed": true
   },
   "outputs": [],
   "source": [
    "# list to record the assigned child\n",
    "answ = np.zeros(len(wish), dtype=np.int32)\n",
    "answ[:] = -1\n",
    "\n",
    "# list to track the number of assigned gift\n",
    "gift_count = np.zeros(len(gift), dtype=np.int32)"
   ]
  },
  {
   "cell_type": "markdown",
   "metadata": {},
   "source": [
    "### get overall happiness\n",
    "Get all positive combinations, from the side of kid or Santa"
   ]
  },
  {
   "cell_type": "code",
   "execution_count": 5,
   "metadata": {
    "collapsed": true
   },
   "outputs": [],
   "source": [
    "def get_overall_happiness(wish, gift):\n",
    "    \n",
    "    res_child = dict()\n",
    "    for child_idx in range(wish.shape[0]):\n",
    "        for gift_rank in range(wish.shape[1]):\n",
    "            res_child[(child_idx, wish[child_idx, gift_rank])] = int((wish.shape[1] - gift_rank) * 2000)\n",
    "            \n",
    "    res_santa = dict()\n",
    "    for gift_idx in range(gift.shape[0]):\n",
    "        for child_rank in range(gift.shape[1]):\n",
    "            res_santa[(gift[gift_idx, child_rank], gift_idx)] = int((gift.shape[1] - child_rank) * 2)\n",
    "    \n",
    "    positive_cases = list(set(res_santa.keys()) | set(res_child.keys()))\n",
    "    print('Positive case tuples (child, gift): {}'.format(len(positive_cases)))\n",
    "    \n",
    "    res = dict()\n",
    "    for p in positive_cases:\n",
    "        res[p] = 0\n",
    "        if p in res_child:\n",
    "            res[p] += res_child[p]\n",
    "        if p in res_santa:\n",
    "            res[p] += res_santa[p]\n",
    "            \n",
    "    return res"
   ]
  },
  {
   "cell_type": "code",
   "execution_count": 6,
   "metadata": {
    "collapsed": true
   },
   "outputs": [],
   "source": [
    "import time"
   ]
  },
  {
   "cell_type": "code",
   "execution_count": 7,
   "metadata": {
    "collapsed": false
   },
   "outputs": [
    {
     "name": "stdout",
     "output_type": "stream",
     "text": [
      "Positive case tuples (child, gift): 100899773\n",
      "Cost 509.490 seconds..\n"
     ]
    }
   ],
   "source": [
    "start_time = time.time()\n",
    "happiness = get_overall_happiness(wish, gift)\n",
    "\n",
    "print('Cost %.3f seconds..' %(time.time() - start_time))"
   ]
  },
  {
   "cell_type": "code",
   "execution_count": 8,
   "metadata": {
    "collapsed": false
   },
   "outputs": [
    {
     "data": {
      "text/plain": [
       "100899773"
      ]
     },
     "execution_count": 8,
     "metadata": {},
     "output_type": "execute_result"
    }
   ],
   "source": [
    "len(happiness)"
   ]
  },
  {
   "cell_type": "markdown",
   "metadata": {},
   "source": [
    "### get most desired gifts\n",
    "Rank gifts by their popularity"
   ]
  },
  {
   "cell_type": "code",
   "execution_count": 9,
   "metadata": {
    "collapsed": true
   },
   "outputs": [],
   "source": [
    "def get_most_desired_gifts(wish):\n",
    "    a = dict(Counter(np.ravel(wish)))\n",
    "    best_gifts = sorted(a.items(), key=operator.itemgetter(1), reverse=True)\n",
    "    return best_gifts"
   ]
  },
  {
   "cell_type": "code",
   "execution_count": 10,
   "metadata": {
    "collapsed": false
   },
   "outputs": [
    {
     "name": "stdout",
     "output_type": "stream",
     "text": [
      "CPU times: user 36.9 s, sys: 204 ms, total: 37.1 s\n",
      "Wall time: 37 s\n"
     ]
    }
   ],
   "source": [
    "%time best_gifts = get_most_desired_gifts(wish)"
   ]
  },
  {
   "cell_type": "code",
   "execution_count": 11,
   "metadata": {
    "collapsed": false
   },
   "outputs": [
    {
     "data": {
      "text/plain": [
       "(474, 193075)"
      ]
     },
     "execution_count": 11,
     "metadata": {},
     "output_type": "execute_result"
    }
   ],
   "source": [
    "best_gifts[0]"
   ]
  },
  {
   "cell_type": "markdown",
   "metadata": {},
   "source": [
    "### normalize happiness based on the popularity of gifts"
   ]
  },
  {
   "cell_type": "code",
   "execution_count": 12,
   "metadata": {
    "collapsed": true
   },
   "outputs": [],
   "source": [
    "def recalc_happiness(happiness, best_gifts):\n",
    "    recalc = dict()\n",
    "    for b in best_gifts:\n",
    "        recalc[b[0]] = b[1] / 200000.\n",
    "        \n",
    "    for h in happiness:\n",
    "        c, g = h\n",
    "        happiness[h] /= recalc[g]\n",
    "        \n",
    "    return happiness"
   ]
  },
  {
   "cell_type": "code",
   "execution_count": 13,
   "metadata": {
    "collapsed": false
   },
   "outputs": [
    {
     "name": "stdout",
     "output_type": "stream",
     "text": [
      "CPU times: user 1min 28s, sys: 1.47 s, total: 1min 29s\n",
      "Wall time: 1min 29s\n"
     ]
    }
   ],
   "source": [
    "%time happiness_adj = recalc_happiness(happiness, best_gifts)"
   ]
  },
  {
   "cell_type": "code",
   "execution_count": 14,
   "metadata": {
    "collapsed": false
   },
   "outputs": [
    {
     "name": "stdout",
     "output_type": "stream",
     "text": [
      "CPU times: user 7min 7s, sys: 8.7 s, total: 7min 16s\n",
      "Wall time: 7min 16s\n"
     ]
    }
   ],
   "source": [
    "%time sorted_happiness = sorted(happiness_adj.items(), key=operator.itemgetter(1), reverse=True)"
   ]
  },
  {
   "cell_type": "code",
   "execution_count": 15,
   "metadata": {
    "collapsed": false
   },
   "outputs": [
    {
     "data": {
      "text/plain": [
       "((161400, 494), 2800000000.0000005)"
      ]
     },
     "execution_count": 15,
     "metadata": {},
     "output_type": "execute_result"
    }
   ],
   "source": [
    "sorted_happiness[0]"
   ]
  },
  {
   "cell_type": "markdown",
   "metadata": {},
   "source": [
    "### greedy assignment start"
   ]
  },
  {
   "cell_type": "code",
   "execution_count": 20,
   "metadata": {
    "collapsed": false
   },
   "outputs": [
    {
     "name": "stdout",
     "output_type": "stream",
     "text": [
      "Finsh 1000000 happiness, cost 0.079 mins\n",
      "Finsh 2000000 happiness, cost 0.134 mins\n",
      "Finsh 3000000 happiness, cost 0.191 mins\n",
      "Finsh 4000000 happiness, cost 0.245 mins\n",
      "Finsh 5000000 happiness, cost 0.297 mins\n",
      "Finsh 6000000 happiness, cost 0.348 mins\n",
      "Finsh 7000000 happiness, cost 0.398 mins\n",
      "Finsh 8000000 happiness, cost 0.449 mins\n",
      "Finsh 9000000 happiness, cost 0.497 mins\n",
      "Finsh 10000000 happiness, cost 0.546 mins\n",
      "Finsh 11000000 happiness, cost 0.594 mins\n",
      "Finsh 12000000 happiness, cost 0.641 mins\n",
      "Finsh 13000000 happiness, cost 0.691 mins\n",
      "Finsh 14000000 happiness, cost 0.737 mins\n",
      "Finsh 15000000 happiness, cost 0.785 mins\n",
      "Finsh 16000000 happiness, cost 0.831 mins\n",
      "Finsh 17000000 happiness, cost 0.876 mins\n",
      "Finsh 18000000 happiness, cost 0.920 mins\n",
      "Finsh 19000000 happiness, cost 0.964 mins\n",
      "Finsh 20000000 happiness, cost 1.007 mins\n",
      "Finsh 21000000 happiness, cost 1.050 mins\n",
      "Finsh 22000000 happiness, cost 1.092 mins\n",
      "Finsh 23000000 happiness, cost 1.133 mins\n",
      "Finsh 24000000 happiness, cost 1.175 mins\n",
      "Finsh 25000000 happiness, cost 1.216 mins\n",
      "Finsh 26000000 happiness, cost 1.257 mins\n",
      "Finsh 27000000 happiness, cost 1.299 mins\n",
      "Finsh 28000000 happiness, cost 1.338 mins\n",
      "Finsh 29000000 happiness, cost 1.378 mins\n",
      "Finsh 30000000 happiness, cost 1.417 mins\n",
      "Finsh 31000000 happiness, cost 1.456 mins\n",
      "Finsh 32000000 happiness, cost 1.496 mins\n",
      "Finsh 33000000 happiness, cost 1.535 mins\n",
      "Finsh 34000000 happiness, cost 1.572 mins\n",
      "Finsh 35000000 happiness, cost 1.609 mins\n",
      "Finsh 36000000 happiness, cost 1.646 mins\n",
      "Finsh 37000000 happiness, cost 1.683 mins\n",
      "Finsh 38000000 happiness, cost 1.720 mins\n",
      "Finsh 39000000 happiness, cost 1.757 mins\n",
      "Finsh 40000000 happiness, cost 1.795 mins\n",
      "Finsh 41000000 happiness, cost 1.832 mins\n",
      "Finsh 42000000 happiness, cost 1.869 mins\n",
      "Finsh 43000000 happiness, cost 1.906 mins\n",
      "Finsh 44000000 happiness, cost 1.943 mins\n",
      "Finsh 45000000 happiness, cost 1.980 mins\n",
      "Finsh 46000000 happiness, cost 2.017 mins\n",
      "Finsh 47000000 happiness, cost 2.054 mins\n",
      "Finsh 48000000 happiness, cost 2.092 mins\n",
      "Finsh 49000000 happiness, cost 2.129 mins\n",
      "Finsh 50000000 happiness, cost 2.167 mins\n",
      "Finsh 51000000 happiness, cost 2.204 mins\n",
      "Finsh 52000000 happiness, cost 2.242 mins\n",
      "Finsh 53000000 happiness, cost 2.279 mins\n",
      "Finsh 54000000 happiness, cost 2.316 mins\n",
      "Finsh 55000000 happiness, cost 2.353 mins\n",
      "Finsh 56000000 happiness, cost 2.389 mins\n",
      "Finsh 57000000 happiness, cost 2.427 mins\n",
      "Finsh 58000000 happiness, cost 2.465 mins\n",
      "Finsh 59000000 happiness, cost 2.503 mins\n",
      "Finsh 60000000 happiness, cost 2.541 mins\n",
      "Finsh 61000000 happiness, cost 2.578 mins\n",
      "Finsh 62000000 happiness, cost 2.616 mins\n",
      "Finsh 63000000 happiness, cost 2.654 mins\n",
      "Finsh 64000000 happiness, cost 2.691 mins\n",
      "Finsh 65000000 happiness, cost 2.729 mins\n",
      "Finsh 66000000 happiness, cost 2.766 mins\n",
      "Finsh 67000000 happiness, cost 2.804 mins\n",
      "Finsh 68000000 happiness, cost 2.842 mins\n",
      "Finsh 69000000 happiness, cost 2.879 mins\n",
      "Finsh 70000000 happiness, cost 2.917 mins\n",
      "Finsh 71000000 happiness, cost 2.955 mins\n",
      "Finsh 72000000 happiness, cost 2.992 mins\n",
      "Finsh 73000000 happiness, cost 3.030 mins\n",
      "Finsh 74000000 happiness, cost 3.068 mins\n",
      "Finsh 75000000 happiness, cost 3.105 mins\n",
      "Finsh 76000000 happiness, cost 3.142 mins\n",
      "Finsh 77000000 happiness, cost 3.179 mins\n",
      "Finsh 78000000 happiness, cost 3.217 mins\n",
      "Finsh 79000000 happiness, cost 3.254 mins\n",
      "Finsh 80000000 happiness, cost 3.292 mins\n",
      "Finsh 81000000 happiness, cost 3.332 mins\n",
      "Finsh 82000000 happiness, cost 3.369 mins\n",
      "Finsh 83000000 happiness, cost 3.407 mins\n",
      "Finsh 84000000 happiness, cost 3.444 mins\n",
      "Finsh 85000000 happiness, cost 3.481 mins\n",
      "Finsh 86000000 happiness, cost 3.518 mins\n",
      "Finsh 87000000 happiness, cost 3.557 mins\n",
      "Finsh 88000000 happiness, cost 3.593 mins\n",
      "Finsh 89000000 happiness, cost 3.630 mins\n",
      "Finsh 90000000 happiness, cost 3.667 mins\n",
      "Finsh 91000000 happiness, cost 3.705 mins\n",
      "Finsh 92000000 happiness, cost 3.746 mins\n",
      "Finsh 93000000 happiness, cost 3.783 mins\n",
      "Finsh 94000000 happiness, cost 3.821 mins\n",
      "Finsh 95000000 happiness, cost 3.858 mins\n",
      "Finsh 96000000 happiness, cost 3.895 mins\n",
      "Finsh 97000000 happiness, cost 3.932 mins\n",
      "Finsh 98000000 happiness, cost 3.969 mins\n",
      "Finsh 99000000 happiness, cost 4.007 mins\n",
      "Finsh 100000000 happiness, cost 4.045 mins\n",
      "('Left unhappy children: ', 156)\n",
      "CPU times: user 4min 7s, sys: 2.1 s, total: 4min 9s\n",
      "Wall time: 4min 5s\n"
     ]
    }
   ],
   "source": [
    "%%time\n",
    "start_time = time.time()\n",
    "\n",
    "for i in range(len(sorted_happiness)):\n",
    "    if (i % 1000000 == 0) and (i != 0):\n",
    "        print('Finsh %d happiness, cost %.3f mins' %(i, (time.time() - start_time) / 60.))\n",
    "    \n",
    "    c, g = sorted_happiness[i][0]\n",
    "    \n",
    "    # if the child is already assigned with gift\n",
    "    if answ[c] != -1:\n",
    "        continue\n",
    "    \n",
    "    # if no gift is left\n",
    "    if gift_count[g] >= 1000:\n",
    "        continue\n",
    "        \n",
    "    if c <= 5000 and gift_count[g] <= 997:\n",
    "        if c % 3 == 0:\n",
    "            answ[[c, c+1, c+2]] = g\n",
    "        elif c % 3 == 1:\n",
    "            answ[[c-1, c, c+1]] = g\n",
    "        else:\n",
    "            answ[[c-2, c-1, c]] = g\n",
    "        gift_count[g] += 3\n",
    "    if c > 5000 and c <= 45000 and gift_count[g] <= 998:\n",
    "        if c % 2 == 0:\n",
    "            answ[[c-1, c]] = g\n",
    "        else:\n",
    "            answ[[c, c+1]] = g\n",
    "        gift_count[g] += 2\n",
    "    if c > 45000:\n",
    "        answ[c] = g\n",
    "        gift_count[g] += 1\n",
    "        \n",
    "print('Left unhappy children: ', len(answ[answ == -1]))"
   ]
  },
  {
   "cell_type": "markdown",
   "metadata": {},
   "source": [
    "### check unhappy children"
   ]
  },
  {
   "cell_type": "code",
   "execution_count": 21,
   "metadata": {
    "collapsed": false
   },
   "outputs": [
    {
     "data": {
      "text/plain": [
       "(array([ 45930,  48599,  49306,  50975,  54163,  55927,  56165,  66974,\n",
       "         84896,  86570,  97053, 100988, 101304, 108352, 111584, 114636,\n",
       "        121593, 126961, 133209, 134526, 146715, 147442, 159161, 161019,\n",
       "        162161, 163596, 171147, 175655, 185782, 191471, 199577, 204784,\n",
       "        238021, 242780, 245968, 253213, 259379, 261340, 263790, 266913,\n",
       "        272474, 272623, 274132, 279534, 282775, 283226, 288614, 295265,\n",
       "        297484, 307810, 312797, 317070, 341499, 341881, 350424, 356769,\n",
       "        391300, 407820, 414268, 417867, 421403, 427746, 429093, 430830,\n",
       "        431975, 440304, 445383, 451809, 459682, 460262, 461951, 466819,\n",
       "        468677, 468704, 478028, 484360, 485448, 491454, 503161, 504823,\n",
       "        508209, 508873, 508891, 518678, 533522, 534573, 535809, 543050,\n",
       "        543676, 552422, 558267, 558978, 570656, 572814, 575932, 576822,\n",
       "        590952, 603687, 603897, 611017, 634098, 640527, 652008, 653767,\n",
       "        656896, 666092, 677813, 691809, 711715, 720589, 723535, 724999,\n",
       "        726777, 742118, 749465, 753593, 768137, 789351, 793509, 803780,\n",
       "        811119, 814022, 817843, 827926, 832139, 842409, 845151, 868093,\n",
       "        879826, 894559, 911871, 913689, 924182, 925783, 927334, 928052,\n",
       "        933102, 935015, 935403, 936588, 938790, 941330, 950350, 950532,\n",
       "        952835, 958905, 959910, 964426, 970488, 971324, 978684, 982653,\n",
       "        984978, 988537, 994387, 997582]),)"
      ]
     },
     "execution_count": 21,
     "metadata": {},
     "output_type": "execute_result"
    }
   ],
   "source": [
    "np.where(answ==-1)"
   ]
  },
  {
   "cell_type": "code",
   "execution_count": 22,
   "metadata": {
    "collapsed": true
   },
   "outputs": [],
   "source": [
    "for c in range(45001, len(answ)):\n",
    "    if answ[c] == -1:\n",
    "        g = np.argmin(gift_count)\n",
    "        answ[c] = g\n",
    "        gift_count[g] += 1"
   ]
  },
  {
   "cell_type": "markdown",
   "metadata": {},
   "source": [
    "### check finish"
   ]
  },
  {
   "cell_type": "code",
   "execution_count": 23,
   "metadata": {
    "collapsed": true
   },
   "outputs": [],
   "source": [
    "if answ.min() == -1:\n",
    "    print('Some children without present')\n",
    "\n",
    "if gift_count.max() > 1000:\n",
    "    print('Some error in kernel: {}'.format(gift_count.max()))"
   ]
  },
  {
   "cell_type": "markdown",
   "metadata": {},
   "source": [
    "### evaluate"
   ]
  },
  {
   "cell_type": "code",
   "execution_count": 26,
   "metadata": {
    "collapsed": true
   },
   "outputs": [],
   "source": [
    "import math\n",
    "\n",
    "def lcm(a, b):\n",
    "    \"\"\"Compute the lowest common multiple of a and b\"\"\"\n",
    "    # in case of large numbers, using floor division\n",
    "    return a * b // gcd(a, b)\n",
    "\n",
    "def avg_normalized_happiness(pred, gift, wish):\n",
    "    \n",
    "    n_children = 1000000 # n children to give\n",
    "    n_gift_type = 1000 # n types of gifts available\n",
    "    n_gift_quantity = 1000 # each type of gifts are limited to this quantity\n",
    "    n_gift_pref = 100 # number of gifts a child ranks\n",
    "    n_child_pref = 1000 # number of children a gift ranks\n",
    "    twins = math.ceil(0.04 * n_children / 2.) * 2    # 4% of all population, rounded to the closest number\n",
    "    triplets = math.ceil(0.005 * n_children / 3.) * 3    # 0.5% of all population, rounded to the closest number\n",
    "    ratio_gift_happiness = 2\n",
    "    ratio_child_happiness = 2\n",
    "\n",
    "    # check if triplets have the same gift\n",
    "    for t1 in np.arange(0, triplets, 3):\n",
    "        t1 = int(t1)\n",
    "        triplet1 = pred[t1]\n",
    "        triplet2 = pred[t1+1]\n",
    "        triplet3 = pred[t1+2]\n",
    "        # print(t1, triplet1, triplet2, triplet3)\n",
    "        assert triplet1 == triplet2 and triplet2 == triplet3\n",
    "                \n",
    "    # check if twins have the same gift\n",
    "    for t1 in np.arange(triplets, triplets+twins, 2):\n",
    "        t1 = int(t1)\n",
    "        twin1 = pred[t1]\n",
    "        twin2 = pred[t1+1]\n",
    "        # print(t1)\n",
    "        assert twin1 == twin2\n",
    "\n",
    "    max_child_happiness = n_gift_pref * ratio_child_happiness\n",
    "    max_gift_happiness = n_child_pref * ratio_gift_happiness\n",
    "    total_child_happiness = 0\n",
    "    total_gift_happiness = np.zeros(n_gift_type)\n",
    "    \n",
    "    for i in range(len(pred)):\n",
    "        child_id = i\n",
    "        gift_id = pred[i]\n",
    "        \n",
    "        # check if child_id and gift_id exist\n",
    "        assert child_id < n_children\n",
    "        assert gift_id < n_gift_type\n",
    "        assert child_id >= 0 \n",
    "        assert gift_id >= 0\n",
    "        child_happiness = (n_gift_pref - np.where(wish[child_id]==gift_id)[0]) * ratio_child_happiness\n",
    "        if not child_happiness:\n",
    "            child_happiness = -1\n",
    "\n",
    "        gift_happiness = ( n_child_pref - np.where(gift[gift_id]==child_id)[0]) * ratio_gift_happiness\n",
    "        if not gift_happiness:\n",
    "            gift_happiness = -1\n",
    "\n",
    "        total_child_happiness += child_happiness\n",
    "        total_gift_happiness[gift_id] += gift_happiness\n",
    "        \n",
    "    denominator1 = n_children*max_child_happiness\n",
    "    denominator2 = n_gift_quantity*max_gift_happiness*n_gift_type\n",
    "    common_denom = lcm(denominator1, denominator2)\n",
    "    multiplier = common_denom / denominator1\n",
    "\n",
    "    ret = float(math.pow(total_child_happiness*multiplier,3) + \\\n",
    "        math.pow(np.sum(total_gift_happiness),3)) / float(math.pow(common_denom,3))\n",
    "    return ret"
   ]
  },
  {
   "cell_type": "code",
   "execution_count": 27,
   "metadata": {
    "collapsed": false
   },
   "outputs": [
    {
     "name": "stdout",
     "output_type": "stream",
     "text": [
      "Predicted score: 0.89410213\n"
     ]
    }
   ],
   "source": [
    "score = avg_normalized_happiness(answ, gift, wish)\n",
    "print('Predicted score: {:.8f}'.format(score))"
   ]
  }
 ],
 "metadata": {
  "anaconda-cloud": {},
  "kernelspec": {
   "display_name": "myconda",
   "language": "python",
   "name": "py27kernel"
  },
  "language_info": {
   "codemirror_mode": {
    "name": "ipython",
    "version": 2
   },
   "file_extension": ".py",
   "mimetype": "text/x-python",
   "name": "python",
   "nbconvert_exporter": "python",
   "pygments_lexer": "ipython2",
   "version": "2.7.13"
  }
 },
 "nbformat": 4,
 "nbformat_minor": 0
}
