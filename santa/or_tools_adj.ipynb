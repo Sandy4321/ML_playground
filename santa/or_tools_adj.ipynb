{
 "cells": [
  {
   "cell_type": "code",
   "execution_count": 1,
   "metadata": {
    "collapsed": true
   },
   "outputs": [],
   "source": [
    "import pandas as pd\n",
    "import numpy as np\n",
    "\n",
    "from ortools.graph import pywrapgraph"
   ]
  },
  {
   "cell_type": "markdown",
   "metadata": {},
   "source": [
    "### read data"
   ]
  },
  {
   "cell_type": "code",
   "execution_count": 2,
   "metadata": {
    "collapsed": false
   },
   "outputs": [
    {
     "name": "stdout",
     "output_type": "stream",
     "text": [
      "CPU times: user 8.82 s, sys: 746 ms, total: 9.57 s\n",
      "Wall time: 9.56 s\n"
     ]
    }
   ],
   "source": [
    "%%time\n",
    "wish = pd.read_csv('/group/amfs_saving_model/jli/santa/child_wishlist_v2.csv', header=None).as_matrix()[:, 1:]\n",
    "gift = pd.read_csv('/group/amfs_saving_model/jli/santa/gift_goodkids_v2.csv', header=None).as_matrix()[:, 1:]"
   ]
  },
  {
   "cell_type": "code",
   "execution_count": 3,
   "metadata": {
    "collapsed": false
   },
   "outputs": [
    {
     "name": "stdout",
     "output_type": "stream",
     "text": [
      "(1000000, 100)\n",
      "(1000, 1000)\n"
     ]
    }
   ],
   "source": [
    "print wish.shape\n",
    "print gift.shape"
   ]
  },
  {
   "cell_type": "markdown",
   "metadata": {},
   "source": [
    "### get overall happiness"
   ]
  },
  {
   "cell_type": "markdown",
   "metadata": {},
   "source": [
    "#### get child happy"
   ]
  },
  {
   "cell_type": "code",
   "execution_count": 4,
   "metadata": {
    "collapsed": true
   },
   "outputs": [],
   "source": [
    "child_happy_matrix = np.zeros((wish.shape[0], gift.shape[0]))\n",
    "child_happy_row = [2000 * (wish.shape[1] - gift_rank) for gift_rank in range(wish.shape[1])]"
   ]
  },
  {
   "cell_type": "code",
   "execution_count": 5,
   "metadata": {
    "collapsed": false
   },
   "outputs": [
    {
     "name": "stdout",
     "output_type": "stream",
     "text": [
      "CPU times: user 5.63 s, sys: 935 ms, total: 6.56 s\n",
      "Wall time: 6.56 s\n"
     ]
    }
   ],
   "source": [
    "%%time\n",
    "for child_idx in range(wish.shape[0]):\n",
    "    child_happy_matrix[child_idx] = -1000\n",
    "    child_happy_matrix[child_idx][wish[child_idx]] = child_happy_row"
   ]
  },
  {
   "cell_type": "code",
   "execution_count": 6,
   "metadata": {
    "collapsed": false
   },
   "outputs": [
    {
     "data": {
      "text/plain": [
       "array([[  -1000.,   -1000.,   -1000., ...,   40000.,   -1000.,   -1000.],\n",
       "       [ 120000.,   -1000.,   -1000., ...,   -1000.,   -1000.,   -1000.],\n",
       "       [  -1000.,   -1000.,   -1000., ...,   -1000.,   -1000.,   -1000.],\n",
       "       ..., \n",
       "       [  -1000.,   -1000.,   -1000., ...,   -1000.,   -1000.,   -1000.],\n",
       "       [  -1000.,   -1000.,   -1000., ...,   -1000.,   -1000.,   -1000.],\n",
       "       [  -1000.,   -1000.,   -1000., ...,   -1000.,   -1000.,   -1000.]])"
      ]
     },
     "execution_count": 6,
     "metadata": {},
     "output_type": "execute_result"
    }
   ],
   "source": [
    "child_happy_matrix"
   ]
  },
  {
   "cell_type": "markdown",
   "metadata": {},
   "source": [
    "#### get gift happy"
   ]
  },
  {
   "cell_type": "code",
   "execution_count": 12,
   "metadata": {
    "collapsed": true
   },
   "outputs": [],
   "source": [
    "gift_happy_matrix = np.zeros((wish.shape[0], gift.shape[0]))\n",
    "gift_happy_row = [2 * (gift.shape[1] - child_rank) for child_rank in range(gift.shape[1])]"
   ]
  },
  {
   "cell_type": "code",
   "execution_count": 13,
   "metadata": {
    "collapsed": false
   },
   "outputs": [
    {
     "name": "stdout",
     "output_type": "stream",
     "text": [
      "CPU times: user 24 s, sys: 1.55 s, total: 25.6 s\n",
      "Wall time: 25.6 s\n"
     ]
    }
   ],
   "source": [
    "%%time\n",
    "for gift_idx in range(gift.shape[0]):\n",
    "    gift_happy_matrix[:, gift_idx] = -1\n",
    "    gift_happy_matrix[gift[gift_idx], gift_idx] = gift_happy_row"
   ]
  },
  {
   "cell_type": "code",
   "execution_count": 14,
   "metadata": {
    "collapsed": false
   },
   "outputs": [
    {
     "data": {
      "text/plain": [
       "array([[-1., -1., -1., ..., -1., -1., -1.],\n",
       "       [-1., -1., -1., ..., -1., -1., -1.],\n",
       "       [-1., -1., -1., ..., -1., -1., -1.],\n",
       "       ..., \n",
       "       [-1., -1., -1., ..., -1., -1., -1.],\n",
       "       [-1., -1., -1., ..., -1., -1., -1.],\n",
       "       [-1., -1., -1., ..., -1., -1., -1.]])"
      ]
     },
     "execution_count": 14,
     "metadata": {},
     "output_type": "execute_result"
    }
   ],
   "source": [
    "gift_happy_matrix"
   ]
  },
  {
   "cell_type": "markdown",
   "metadata": {},
   "source": [
    "### sum together the happiness"
   ]
  },
  {
   "cell_type": "code",
   "execution_count": 19,
   "metadata": {
    "collapsed": false
   },
   "outputs": [
    {
     "name": "stdout",
     "output_type": "stream",
     "text": [
      "CPU times: user 1.64 s, sys: 2.94 s, total: 4.59 s\n",
      "Wall time: 4.59 s\n"
     ]
    }
   ],
   "source": [
    "%time all_happy = child_happy_matrix + gift_happy_matrix"
   ]
  },
  {
   "cell_type": "code",
   "execution_count": 20,
   "metadata": {
    "collapsed": false
   },
   "outputs": [
    {
     "data": {
      "text/plain": [
       "array([[  -1001.,   -1001.,   -1001., ...,   39999.,   -1001.,   -1001.],\n",
       "       [ 119999.,   -1001.,   -1001., ...,   -1001.,   -1001.,   -1001.],\n",
       "       [  -1001.,   -1001.,   -1001., ...,   -1001.,   -1001.,   -1001.],\n",
       "       ..., \n",
       "       [  -1001.,   -1001.,   -1001., ...,   -1001.,   -1001.,   -1001.],\n",
       "       [  -1001.,   -1001.,   -1001., ...,   -1001.,   -1001.,   -1001.],\n",
       "       [  -1001.,   -1001.,   -1001., ...,   -1001.,   -1001.,   -1001.]])"
      ]
     },
     "execution_count": 20,
     "metadata": {},
     "output_type": "execute_result"
    }
   ],
   "source": [
    "all_happy"
   ]
  },
  {
   "cell_type": "markdown",
   "metadata": {},
   "source": [
    "### adjust for triplets and twins"
   ]
  },
  {
   "cell_type": "code",
   "execution_count": 28,
   "metadata": {
    "collapsed": true
   },
   "outputs": [],
   "source": [
    "for child_idx in range(0, 5001, 3):\n",
    "    all_happy[range(child_idx, child_idx+3)] = np.mean(all_happy[range(child_idx, child_idx+3)], axis=0)\n",
    "    \n",
    "for child_idx in range(5001, 45001, 2):\n",
    "    all_happy[range(child_idx, child_idx+2)] = np.mean(all_happy[range(child_idx, child_idx+2)], axis=0)"
   ]
  },
  {
   "cell_type": "code",
   "execution_count": 30,
   "metadata": {
    "collapsed": false
   },
   "outputs": [],
   "source": [
    "all_happy = all_happy.astype(np.int64)"
   ]
  },
  {
   "cell_type": "code",
   "execution_count": 31,
   "metadata": {
    "collapsed": false
   },
   "outputs": [
    {
     "data": {
      "text/plain": [
       "array([[39332, -1001, -1001, ..., 12665, -1001, -1001],\n",
       "       [39332, -1001, -1001, ..., 12665, -1001, -1001],\n",
       "       [39332, -1001, -1001, ..., 12665, -1001, -1001],\n",
       "       ..., \n",
       "       [-1001, -1001, -1001, ..., -1001, -1001, -1001],\n",
       "       [-1001, -1001, -1001, ..., -1001, -1001, -1001],\n",
       "       [-1001, -1001, -1001, ..., -1001, -1001, -1001]])"
      ]
     },
     "execution_count": 31,
     "metadata": {},
     "output_type": "execute_result"
    }
   ],
   "source": [
    "all_happy"
   ]
  },
  {
   "cell_type": "markdown",
   "metadata": {},
   "source": [
    "## construct graph for ortools"
   ]
  },
  {
   "cell_type": "code",
   "execution_count": 34,
   "metadata": {
    "collapsed": true
   },
   "outputs": [],
   "source": [
    "min_cost_flow = pywrapgraph.SimpleMinCostFlow()"
   ]
  },
  {
   "cell_type": "code",
   "execution_count": 35,
   "metadata": {
    "collapsed": false
   },
   "outputs": [
    {
     "name": "stdout",
     "output_type": "stream",
     "text": [
      "Finish 50000 children...\n",
      "Finish 100000 children...\n",
      "Finish 150000 children...\n",
      "Finish 200000 children...\n",
      "Finish 250000 children...\n",
      "Finish 300000 children...\n",
      "Finish 350000 children...\n",
      "Finish 400000 children...\n",
      "Finish 450000 children...\n",
      "Finish 500000 children...\n",
      "Finish 550000 children...\n",
      "Finish 600000 children...\n",
      "Finish 650000 children...\n",
      "Finish 700000 children...\n",
      "Finish 750000 children...\n",
      "Finish 800000 children...\n",
      "Finish 850000 children...\n",
      "Finish 900000 children...\n",
      "Finish 950000 children...\n",
      "CPU times: user 12min 54s, sys: 18.1 s, total: 13min 13s\n",
      "Wall time: 13min 12s\n"
     ]
    }
   ],
   "source": [
    "%%time\n",
    "for child_idx in range(all_happy.shape[0]):\n",
    "    \n",
    "    if (child_idx % 50000 == 0) and (child_idx != 0):\n",
    "        print('Finish %d children...' %(child_idx))\n",
    "        \n",
    "    for gift_idx in range(all_happy.shape[1]):\n",
    "        gift_idx_true = gift_idx + all_happy.shape[0]\n",
    "        min_cost_flow.AddArcWithCapacityAndUnitCost(child_idx, gift_idx_true, 1, -all_happy[child_idx, gift_idx])"
   ]
  },
  {
   "cell_type": "code",
   "execution_count": 36,
   "metadata": {
    "collapsed": true
   },
   "outputs": [],
   "source": [
    "supplies = [1] * all_happy.shape[0] + [-1000] * all_happy.shape[1]"
   ]
  },
  {
   "cell_type": "code",
   "execution_count": 37,
   "metadata": {
    "collapsed": false
   },
   "outputs": [
    {
     "data": {
      "text/plain": [
       "1001000"
      ]
     },
     "execution_count": 37,
     "metadata": {},
     "output_type": "execute_result"
    }
   ],
   "source": [
    "len(supplies)"
   ]
  },
  {
   "cell_type": "code",
   "execution_count": 38,
   "metadata": {
    "collapsed": false
   },
   "outputs": [
    {
     "name": "stdout",
     "output_type": "stream",
     "text": [
      "CPU times: user 438 ms, sys: 0 ns, total: 438 ms\n",
      "Wall time: 437 ms\n"
     ]
    }
   ],
   "source": [
    "%%time\n",
    "for i in range(len(supplies)):\n",
    "    min_cost_flow.SetNodeSupply(i, supplies[i])"
   ]
  },
  {
   "cell_type": "code",
   "execution_count": 39,
   "metadata": {
    "collapsed": false
   },
   "outputs": [
    {
     "name": "stdout",
     "output_type": "stream",
     "text": [
      "('Minimum cost:', -195660229354)\n",
      "CPU times: user 22min 21s, sys: 30.7 s, total: 22min 52s\n",
      "Wall time: 22min 52s\n"
     ]
    }
   ],
   "source": [
    "%%time \n",
    "if min_cost_flow.SolveMaxFlowWithMinCost() == min_cost_flow.OPTIMAL:\n",
    "    print('Minimum cost:', min_cost_flow.OptimalCost())\n",
    "else:\n",
    "    print('There was an issue with the min cost flow input.')"
   ]
  },
  {
   "cell_type": "markdown",
   "metadata": {},
   "source": [
    "### get the allocation"
   ]
  },
  {
   "cell_type": "code",
   "execution_count": 97,
   "metadata": {
    "collapsed": true
   },
   "outputs": [],
   "source": [
    "# list to record the assigned child\n",
    "answ = np.zeros(len(wish), dtype=np.int32)\n",
    "answ[:] = -1"
   ]
  },
  {
   "cell_type": "code",
   "execution_count": 98,
   "metadata": {
    "collapsed": false
   },
   "outputs": [
    {
     "name": "stdout",
     "output_type": "stream",
     "text": [
      "CPU times: user 6min 24s, sys: 1.53 s, total: 6min 25s\n",
      "Wall time: 6min 25s\n"
     ]
    }
   ],
   "source": [
    "%%time\n",
    "for i in range(min_cost_flow.NumArcs()):\n",
    "    if min_cost_flow.Flow(i) != 0:\n",
    "        answ[min_cost_flow.Tail(i)] = min_cost_flow.Head(i) - wish.shape[0]"
   ]
  },
  {
   "cell_type": "markdown",
   "metadata": {},
   "source": [
    "### adjust triplets"
   ]
  },
  {
   "cell_type": "code",
   "execution_count": 84,
   "metadata": {
    "collapsed": true
   },
   "outputs": [],
   "source": [
    "from collections import Counter"
   ]
  },
  {
   "cell_type": "code",
   "execution_count": 99,
   "metadata": {
    "collapsed": false
   },
   "outputs": [],
   "source": [
    "for t1 in range(0, 5001, 3):\n",
    "    ans = dict(Counter(answ[range(t1, t1+3)]))\n",
    "    \n",
    "    if len(ans.keys()) == 1:\n",
    "        continue\n",
    "    elif len(ans.keys()) == 2:\n",
    "        target_gift = [k for k in ans.keys() if ans[k]==2][0]\n",
    "        can_kids = np.array([k_idx for k_idx in range(5001, wish.shape[0]) if answ[k_idx] == target_gift])\n",
    "        can_scores = np.array([all_happy[k_idx, target_gift] for k_idx in can_kids])\n",
    "        can_kid = can_kids[np.argmin(can_scores)]\n",
    "        \n",
    "        target_kid = [k for k in range(t1, t1+3) if answ[k]!=target_gift][0]\n",
    "        answ[can_kid] = answ[target_kid]\n",
    "        answ[target_kid] = target_gift\n",
    "    else:\n",
    "        t_replaces = []\n",
    "        for t in range(t1, t1+3):\n",
    "            replaces = np.array([other_idx for other_idx in range(5001, wish.shape[0]) if answ[other_idx] == answ[t]])\n",
    "            replaces_scores = np.array([all_happy[other_idx, answ[t]] for other_idx in replaces])\n",
    "            replace_two_idx = np.argsort(replaces_scores)[:2]\n",
    "            replaces_two = replaces[replace_two_idx]\n",
    "            t_replaces.append([t, replaces_two[0], replaces_two[1], np.mean(replaces_scores[replace_two_idx])])\n",
    "\n",
    "        t_sorted = sorted(t_replaces, key=lambda x: x[3])\n",
    "        answ[t_sorted[0][1]] = answ[t_sorted[1][0]]\n",
    "        answ[t_sorted[0][2]] = answ[t_sorted[2][0]]\n",
    "        answ[t_sorted[1][0]] = answ[t_sorted[0][0]]\n",
    "        answ[t_sorted[2][0]] = answ[t_sorted[0][0]]"
   ]
  },
  {
   "cell_type": "markdown",
   "metadata": {},
   "source": [
    "### adjust twins"
   ]
  },
  {
   "cell_type": "code",
   "execution_count": 100,
   "metadata": {
    "collapsed": false
   },
   "outputs": [
    {
     "name": "stdout",
     "output_type": "stream",
     "text": [
      "CPU times: user 48.5 s, sys: 3 ms, total: 48.5 s\n",
      "Wall time: 48.5 s\n"
     ]
    }
   ],
   "source": [
    "%%time\n",
    "for t1 in range(5001, 45001, 2):\n",
    "    if answ[t1] == answ[t1+1]:\n",
    "        continue\n",
    "    else:\n",
    "        t_replaces = []\n",
    "        for t in [t1, t1+1]:\n",
    "            replaces = np.array([other_idx for other_idx in range(45001, wish.shape[0]) if answ[other_idx] == answ[t]])\n",
    "            replaces_scores = np.array([all_happy[other_idx, answ[t]] for other_idx in replaces])\n",
    "            replaces_kid = replaces[np.argmin(replaces_scores)]\n",
    "            t_replaces.append([t, replaces_kid, np.min(replaces_scores)])\n",
    "\n",
    "        t_sorted = sorted(t_replaces, key=lambda x: x[2])\n",
    "        answ[t_sorted[0][1]] = answ[t_sorted[1][0]]\n",
    "        answ[t_sorted[1][0]] = answ[t_sorted[0][0]]"
   ]
  },
  {
   "cell_type": "markdown",
   "metadata": {},
   "source": [
    "### evaluation"
   ]
  },
  {
   "cell_type": "code",
   "execution_count": 95,
   "metadata": {
    "collapsed": true
   },
   "outputs": [],
   "source": [
    "import math\n",
    "from fractions import gcd\n",
    "\n",
    "def lcm(a, b):\n",
    "    \"\"\"Compute the lowest common multiple of a and b\"\"\"\n",
    "    # in case of large numbers, using floor division\n",
    "    return a * b // gcd(a, b)\n",
    "\n",
    "def avg_normalized_happiness(pred, gift, wish):\n",
    "    \n",
    "    n_children = 1000000 # n children to give\n",
    "    n_gift_type = 1000 # n types of gifts available\n",
    "    n_gift_quantity = 1000 # each type of gifts are limited to this quantity\n",
    "    n_gift_pref = 100 # number of gifts a child ranks\n",
    "    n_child_pref = 1000 # number of children a gift ranks\n",
    "    twins = math.ceil(0.04 * n_children / 2.) * 2    # 4% of all population, rounded to the closest number\n",
    "    triplets = math.ceil(0.005 * n_children / 3.) * 3    # 0.5% of all population, rounded to the closest number\n",
    "    ratio_gift_happiness = 2\n",
    "    ratio_child_happiness = 2\n",
    "\n",
    "    # check if triplets have the same gift\n",
    "    for t1 in np.arange(0, triplets, 3):\n",
    "        t1 = int(t1)\n",
    "        triplet1 = pred[t1]\n",
    "        triplet2 = pred[t1+1]\n",
    "        triplet3 = pred[t1+2]\n",
    "        # print(t1, triplet1, triplet2, triplet3)\n",
    "        assert triplet1 == triplet2 and triplet2 == triplet3\n",
    "                \n",
    "    # check if twins have the same gift\n",
    "    for t1 in np.arange(triplets, triplets+twins, 2):\n",
    "        t1 = int(t1)\n",
    "        twin1 = pred[t1]\n",
    "        twin2 = pred[t1+1]\n",
    "        # print(t1)\n",
    "        assert twin1 == twin2\n",
    "\n",
    "    max_child_happiness = n_gift_pref * ratio_child_happiness\n",
    "    max_gift_happiness = n_child_pref * ratio_gift_happiness\n",
    "    total_child_happiness = 0\n",
    "    total_gift_happiness = np.zeros(n_gift_type)\n",
    "    \n",
    "    for i in range(len(pred)):\n",
    "        child_id = i\n",
    "        gift_id = pred[i]\n",
    "        \n",
    "        # check if child_id and gift_id exist\n",
    "        assert child_id < n_children\n",
    "        assert gift_id < n_gift_type\n",
    "        assert child_id >= 0 \n",
    "        assert gift_id >= 0\n",
    "        child_happiness = (n_gift_pref - np.where(wish[child_id]==gift_id)[0]) * ratio_child_happiness\n",
    "        if not child_happiness:\n",
    "            child_happiness = -1\n",
    "\n",
    "        gift_happiness = ( n_child_pref - np.where(gift[gift_id]==child_id)[0]) * ratio_gift_happiness\n",
    "        if not gift_happiness:\n",
    "            gift_happiness = -1\n",
    "\n",
    "        total_child_happiness += child_happiness\n",
    "        total_gift_happiness[gift_id] += gift_happiness\n",
    "        \n",
    "    denominator1 = n_children*max_child_happiness\n",
    "    denominator2 = n_gift_quantity*max_gift_happiness*n_gift_type\n",
    "    common_denom = lcm(denominator1, denominator2)\n",
    "    multiplier = common_denom / denominator1\n",
    "\n",
    "    ret = float(math.pow(total_child_happiness*multiplier,3) + \\\n",
    "        math.pow(np.sum(total_gift_happiness),3)) / float(math.pow(common_denom,3))\n",
    "    return ret"
   ]
  },
  {
   "cell_type": "code",
   "execution_count": 101,
   "metadata": {
    "collapsed": false
   },
   "outputs": [
    {
     "name": "stdout",
     "output_type": "stream",
     "text": [
      "Predicted score: 0.93609049\n",
      "CPU times: user 18.5 s, sys: 2 ms, total: 18.5 s\n",
      "Wall time: 18.5 s\n"
     ]
    }
   ],
   "source": [
    "%%time\n",
    "score = avg_normalized_happiness(answ, gift, wish)\n",
    "print('Predicted score: {:.8f}'.format(score))"
   ]
  }
 ],
 "metadata": {
  "anaconda-cloud": {},
  "kernelspec": {
   "display_name": "myconda",
   "language": "python",
   "name": "py27kernel"
  },
  "language_info": {
   "codemirror_mode": {
    "name": "ipython",
    "version": 2
   },
   "file_extension": ".py",
   "mimetype": "text/x-python",
   "name": "python",
   "nbconvert_exporter": "python",
   "pygments_lexer": "ipython2",
   "version": "2.7.13"
  }
 },
 "nbformat": 4,
 "nbformat_minor": 0
}
